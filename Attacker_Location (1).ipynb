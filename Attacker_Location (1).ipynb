{
  "nbformat": 4,
  "nbformat_minor": 0,
  "metadata": {
    "colab": {
      "provenance": []
    },
    "kernelspec": {
      "name": "python3",
      "display_name": "Python 3"
    },
    "language_info": {
      "name": "python"
    }
  },
  "cells": [
    {
      "cell_type": "markdown",
      "source": [
        "1. This project focuses on location of the attackers it reverse hacks(assuming) and find the location of the attacker and plots the heatmap of of cities where more Cyberattacks would occur. This creates a map and points out the location.\n",
        "\n",
        "2.This feature is used to measure the crime rate of the attackers and further laws can be implemented to the country."
      ],
      "metadata": {
        "id": "xAqy0_0ri54T"
      }
    },
    {
      "cell_type": "code",
      "execution_count": 1,
      "metadata": {
        "colab": {
          "base_uri": "https://localhost:8080/"
        },
        "id": "Qy_Qqufaiwk2",
        "outputId": "d555480d-7660-48ef-ab9b-b97da8e49d36"
      },
      "outputs": [
        {
          "output_type": "stream",
          "name": "stdout",
          "text": [
            "Maps has been generated\n"
          ]
        }
      ],
      "source": [
        "import folium\n",
        "import random\n",
        "from folium.plugins import HeatMap\n",
        "\n",
        "attack_locations = [\n",
        "    (40.7128, -74.0060),\n",
        "    (34.0522, -118.2437),\n",
        "    (51.5074, -0.1278),\n",
        "    (35.6895, 139.6917),\n",
        "    (28.7041, 77.1025),\n",
        "    (37.7749, -122.4194),\n",
        "    (55.7558, 37.6173),\n",
        "    (48.8566, 2.3522),\n",
        "    (39.9042, 116.4074),\n",
        "    (19.0760, 72.8777),\n",
        "]\n",
        "\n",
        "\n",
        "attack_data = [[lat, lon, random.uniform(0.5, 1.5)] for lat, lon in attack_locations]\n",
        "\n",
        "\n",
        "cyber_map = folium.Map(location=[20, 0], zoom_start=2)\n",
        "\n",
        "\n",
        "HeatMap(attack_data, radius=25, blur=15, max_zoom=10).add_to(cyber_map)\n",
        "\n",
        "\n",
        "cyber_map.save(\"attacker_location.html\")\n",
        "\n",
        "print(\"Maps has been generated\")"
      ]
    }
  ]
}